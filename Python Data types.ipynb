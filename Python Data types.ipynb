{
 "cells": [
  {
   "cell_type": "markdown",
   "metadata": {},
   "source": [
    "# PYTHON DATA TYPES"
   ]
  },
  {
   "cell_type": "markdown",
   "metadata": {},
   "source": [
    "\n",
    "Data types are the classification or categorization of data items. Python supports the following built-in data types.\n",
    "\n",
    "**Scalar Types**\n",
    "\n",
    "int: Positive or negative whole numbers (without a fractional part) e.g. -10, 10, 456, 4654654.\n",
    "\n",
    "float: Any real number with a floating-point representation in which a fractional component is denoted by a decimal symbol        or scientific notation e.g. 1.23, 3.4556789e2.\n",
    "complex: A number with a real and imaginary component represented as x + 2y.\n",
    "\n",
    "bool: Data with one of two built-in values True or False. Notice that 'T' and 'F' are capital. true and false are not valid       booleans and Python will throw an error for them.\n",
    "\n",
    "None: The None represents the null object in Python. A None is returned by functions that don't explicitly return a value.\n",
    "\n",
    "**Sequence Type**\n",
    "\n",
    "A sequence is an ordered collection of similar or different data types. Python has the following built-in sequence data types.\n",
    "\n",
    "String: A string value is a collection of one or more characters put in single, double or triple quotes.\n",
    "\n",
    "List: A list object is an ordered collection of one or more data items, not necessarily of the same type, put in square           brackets.\n",
    "\n",
    "Tuple: A Tuple object is an ordered collection of one or more data items, not necessarily of the same type, put in                parentheses.   \n",
    "\n",
    "**Mapping Type**\n",
    "\n",
    "Dictionary: A dictionary Dict() object is an unordered collection of data in a key:value pair form. A collection of such               pairs is enclosed in curly brackets. For example: {1:\"Steve\", 2:\"Bill\", 3:\"Ram\", 4: \"Farha\"}.    \n",
    "\n",
    "**Set Types**\n",
    "\n",
    "set: Set is mutable, unordered collection of distinct hashable objects. The set is a Python implementation of the set in        Mathematics. A set object has suitable methods to perform mathematical set operations like union, intersection,            difference, etc.          \n",
    "\n",
    "frozenset: Frozenset is immutable version of set whose elements are added from other iterables.\n",
    "\n",
    "**Mutable and Immutable Types**\n",
    "\n",
    "Data objects of the above types are stored in a computer's memory for processing. Some of these values can be modified during processing, but contents of others can't be altered once they are created in the memory.\n",
    "\n",
    "Numbers, strings, and Tuples are immutable, which means their contents can't be altered after creation.\n",
    "\n",
    "On the other hand, items in a List or Dictionary object can be modified. It is possible to add, delete, insert, and rearrange items in a list or dictionary. Hence, they are mutable objects."
   ]
  },
  {
   "cell_type": "code",
   "execution_count": null,
   "metadata": {},
   "outputs": [],
   "source": []
  }
 ],
 "metadata": {
  "kernelspec": {
   "display_name": "Python 3",
   "language": "python",
   "name": "python3"
  },
  "language_info": {
   "codemirror_mode": {
    "name": "ipython",
    "version": 3
   },
   "file_extension": ".py",
   "mimetype": "text/x-python",
   "name": "python",
   "nbconvert_exporter": "python",
   "pygments_lexer": "ipython3",
   "version": "3.7.4"
  }
 },
 "nbformat": 4,
 "nbformat_minor": 2
}
